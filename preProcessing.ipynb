{
 "cells": [
  {
   "cell_type": "code",
   "execution_count": 1,
   "metadata": {},
   "outputs": [],
   "source": [
    "from sklearn.preprocessing import StandardScaler, LabelEncoder\n",
    "from sklearn.cluster import KMeans\n",
    "import matplotlib.pyplot as plt\n",
    "import pandas as pd\n",
    "import numpy as np"
   ]
  },
  {
   "cell_type": "code",
   "execution_count": 2,
   "metadata": {},
   "outputs": [],
   "source": [
    "features = pd.read_csv('Dataset/features.csv')\n",
    "targets = pd.read_csv('Dataset/targets.csv')"
   ]
  },
  {
   "cell_type": "code",
   "execution_count": 3,
   "metadata": {},
   "outputs": [
    {
     "data": {
      "text/html": [
       "<div>\n",
       "<style scoped>\n",
       "    .dataframe tbody tr th:only-of-type {\n",
       "        vertical-align: middle;\n",
       "    }\n",
       "\n",
       "    .dataframe tbody tr th {\n",
       "        vertical-align: top;\n",
       "    }\n",
       "\n",
       "    .dataframe thead th {\n",
       "        text-align: right;\n",
       "    }\n",
       "</style>\n",
       "<table border=\"1\" class=\"dataframe\">\n",
       "  <thead>\n",
       "    <tr style=\"text-align: right;\">\n",
       "      <th></th>\n",
       "      <th>A15</th>\n",
       "      <th>A14</th>\n",
       "      <th>A13</th>\n",
       "      <th>A12</th>\n",
       "      <th>A11</th>\n",
       "      <th>A10</th>\n",
       "      <th>A9</th>\n",
       "      <th>A8</th>\n",
       "      <th>A7</th>\n",
       "      <th>A6</th>\n",
       "      <th>A5</th>\n",
       "      <th>A4</th>\n",
       "      <th>A3</th>\n",
       "      <th>A2</th>\n",
       "      <th>A1</th>\n",
       "    </tr>\n",
       "  </thead>\n",
       "  <tbody>\n",
       "    <tr>\n",
       "      <th>0</th>\n",
       "      <td>0</td>\n",
       "      <td>202.0</td>\n",
       "      <td>g</td>\n",
       "      <td>f</td>\n",
       "      <td>1</td>\n",
       "      <td>t</td>\n",
       "      <td>t</td>\n",
       "      <td>1.25</td>\n",
       "      <td>v</td>\n",
       "      <td>w</td>\n",
       "      <td>g</td>\n",
       "      <td>u</td>\n",
       "      <td>0.000</td>\n",
       "      <td>30.83</td>\n",
       "      <td>b</td>\n",
       "    </tr>\n",
       "    <tr>\n",
       "      <th>1</th>\n",
       "      <td>560</td>\n",
       "      <td>43.0</td>\n",
       "      <td>g</td>\n",
       "      <td>f</td>\n",
       "      <td>6</td>\n",
       "      <td>t</td>\n",
       "      <td>t</td>\n",
       "      <td>3.04</td>\n",
       "      <td>h</td>\n",
       "      <td>q</td>\n",
       "      <td>g</td>\n",
       "      <td>u</td>\n",
       "      <td>4.460</td>\n",
       "      <td>58.67</td>\n",
       "      <td>a</td>\n",
       "    </tr>\n",
       "    <tr>\n",
       "      <th>2</th>\n",
       "      <td>824</td>\n",
       "      <td>280.0</td>\n",
       "      <td>g</td>\n",
       "      <td>f</td>\n",
       "      <td>0</td>\n",
       "      <td>f</td>\n",
       "      <td>t</td>\n",
       "      <td>1.50</td>\n",
       "      <td>h</td>\n",
       "      <td>q</td>\n",
       "      <td>g</td>\n",
       "      <td>u</td>\n",
       "      <td>0.500</td>\n",
       "      <td>24.50</td>\n",
       "      <td>a</td>\n",
       "    </tr>\n",
       "    <tr>\n",
       "      <th>3</th>\n",
       "      <td>3</td>\n",
       "      <td>100.0</td>\n",
       "      <td>g</td>\n",
       "      <td>t</td>\n",
       "      <td>5</td>\n",
       "      <td>t</td>\n",
       "      <td>t</td>\n",
       "      <td>3.75</td>\n",
       "      <td>v</td>\n",
       "      <td>w</td>\n",
       "      <td>g</td>\n",
       "      <td>u</td>\n",
       "      <td>1.540</td>\n",
       "      <td>27.83</td>\n",
       "      <td>b</td>\n",
       "    </tr>\n",
       "    <tr>\n",
       "      <th>4</th>\n",
       "      <td>0</td>\n",
       "      <td>120.0</td>\n",
       "      <td>s</td>\n",
       "      <td>f</td>\n",
       "      <td>0</td>\n",
       "      <td>f</td>\n",
       "      <td>t</td>\n",
       "      <td>1.71</td>\n",
       "      <td>v</td>\n",
       "      <td>w</td>\n",
       "      <td>g</td>\n",
       "      <td>u</td>\n",
       "      <td>5.625</td>\n",
       "      <td>20.17</td>\n",
       "      <td>b</td>\n",
       "    </tr>\n",
       "  </tbody>\n",
       "</table>\n",
       "</div>"
      ],
      "text/plain": [
       "   A15    A14 A13 A12  A11 A10 A9    A8 A7 A6 A5 A4     A3     A2 A1\n",
       "0    0  202.0   g   f    1   t  t  1.25  v  w  g  u  0.000  30.83  b\n",
       "1  560   43.0   g   f    6   t  t  3.04  h  q  g  u  4.460  58.67  a\n",
       "2  824  280.0   g   f    0   f  t  1.50  h  q  g  u  0.500  24.50  a\n",
       "3    3  100.0   g   t    5   t  t  3.75  v  w  g  u  1.540  27.83  b\n",
       "4    0  120.0   s   f    0   f  t  1.71  v  w  g  u  5.625  20.17  b"
      ]
     },
     "execution_count": 3,
     "metadata": {},
     "output_type": "execute_result"
    }
   ],
   "source": [
    "features.head()"
   ]
  },
  {
   "cell_type": "code",
   "execution_count": 4,
   "metadata": {},
   "outputs": [
    {
     "data": {
      "text/html": [
       "<div>\n",
       "<style scoped>\n",
       "    .dataframe tbody tr th:only-of-type {\n",
       "        vertical-align: middle;\n",
       "    }\n",
       "\n",
       "    .dataframe tbody tr th {\n",
       "        vertical-align: top;\n",
       "    }\n",
       "\n",
       "    .dataframe thead th {\n",
       "        text-align: right;\n",
       "    }\n",
       "</style>\n",
       "<table border=\"1\" class=\"dataframe\">\n",
       "  <thead>\n",
       "    <tr style=\"text-align: right;\">\n",
       "      <th></th>\n",
       "      <th>A16</th>\n",
       "    </tr>\n",
       "  </thead>\n",
       "  <tbody>\n",
       "    <tr>\n",
       "      <th>0</th>\n",
       "      <td>+</td>\n",
       "    </tr>\n",
       "    <tr>\n",
       "      <th>1</th>\n",
       "      <td>+</td>\n",
       "    </tr>\n",
       "    <tr>\n",
       "      <th>2</th>\n",
       "      <td>+</td>\n",
       "    </tr>\n",
       "    <tr>\n",
       "      <th>3</th>\n",
       "      <td>+</td>\n",
       "    </tr>\n",
       "    <tr>\n",
       "      <th>4</th>\n",
       "      <td>+</td>\n",
       "    </tr>\n",
       "  </tbody>\n",
       "</table>\n",
       "</div>"
      ],
      "text/plain": [
       "  A16\n",
       "0   +\n",
       "1   +\n",
       "2   +\n",
       "3   +\n",
       "4   +"
      ]
     },
     "execution_count": 4,
     "metadata": {},
     "output_type": "execute_result"
    }
   ],
   "source": [
    "targets.head()"
   ]
  },
  {
   "cell_type": "code",
   "execution_count": 5,
   "metadata": {},
   "outputs": [],
   "source": [
    "# Initilize label Encoder\n",
    "encoder = LabelEncoder()"
   ]
  },
  {
   "cell_type": "code",
   "execution_count": 7,
   "metadata": {},
   "outputs": [
    {
     "name": "stderr",
     "output_type": "stream",
     "text": [
      "C:\\Users\\devas\\AppData\\Local\\Packages\\PythonSoftwareFoundation.Python.3.11_qbz5n2kfra8p0\\LocalCache\\local-packages\\Python311\\site-packages\\sklearn\\preprocessing\\_label.py:110: DataConversionWarning: A column-vector y was passed when a 1d array was expected. Please change the shape of y to (n_samples, ), for example using ravel().\n",
      "  y = column_or_1d(y, warn=True)\n"
     ]
    }
   ],
   "source": [
    "# For an array\n",
    "encoded_targets = encoder.fit_transform(targets)\n",
    "\n",
    "# For a matrix\n",
    "\n",
    "# Just to initilize\n",
    "# Initialize the encoded features DataFrame\n",
    "encoded_features = features.copy()\n",
    "\n",
    "# Encode each column in the features DataFrame\n",
    "for col in features.columns:\n",
    "    encoded_features[col] = encoder.fit_transform(features[col])\n",
    "\n"
   ]
  }
 ],
 "metadata": {
  "kernelspec": {
   "display_name": "Python 3",
   "language": "python",
   "name": "python3"
  },
  "language_info": {
   "codemirror_mode": {
    "name": "ipython",
    "version": 3
   },
   "file_extension": ".py",
   "mimetype": "text/x-python",
   "name": "python",
   "nbconvert_exporter": "python",
   "pygments_lexer": "ipython3",
   "version": "3.11.9"
  }
 },
 "nbformat": 4,
 "nbformat_minor": 2
}
