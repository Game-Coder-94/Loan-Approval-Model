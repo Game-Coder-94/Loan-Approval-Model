{
 "cells": [
  {
   "cell_type": "code",
   "execution_count": 1,
   "metadata": {},
   "outputs": [],
   "source": [
    "from ucimlrepo import fetch_ucirepo"
   ]
  },
  {
   "cell_type": "code",
   "execution_count": 2,
   "metadata": {},
   "outputs": [],
   "source": [
    "loan_approval = fetch_ucirepo(id = 27)"
   ]
  },
  {
   "cell_type": "code",
   "execution_count": 3,
   "metadata": {},
   "outputs": [],
   "source": [
    "features = loan_approval.data.features\n",
    "targets = loan_approval.data.targets"
   ]
  },
  {
   "cell_type": "code",
   "execution_count": 4,
   "metadata": {},
   "outputs": [
    {
     "name": "stdout",
     "output_type": "stream",
     "text": [
      "{'uci_id': 27, 'name': 'Credit Approval', 'repository_url': 'https://archive.ics.uci.edu/dataset/27/credit+approval', 'data_url': 'https://archive.ics.uci.edu/static/public/27/data.csv', 'abstract': 'This data concerns credit card applications; good mix of attributes', 'area': 'Business', 'tasks': ['Classification'], 'characteristics': ['Multivariate'], 'num_instances': 690, 'num_features': 15, 'feature_types': ['Categorical', 'Integer', 'Real'], 'demographics': [], 'target_col': ['A16'], 'index_col': None, 'has_missing_values': 'yes', 'missing_values_symbol': 'NaN', 'year_of_dataset_creation': 1987, 'last_updated': 'Wed Aug 23 2023', 'dataset_doi': '10.24432/C5FS30', 'creators': ['J. R. Quinlan'], 'intro_paper': None, 'additional_info': {'summary': 'This file concerns credit card applications.  All attribute names and values have been changed to meaningless symbols to protect confidentiality of the data.\\r\\n  \\r\\nThis dataset is interesting because there is a good mix of attributes -- continuous, nominal with small numbers of values, and nominal with larger numbers of values.  There are also a few missing values.', 'purpose': None, 'funded_by': None, 'instances_represent': None, 'recommended_data_splits': None, 'sensitive_data': None, 'preprocessing_description': None, 'variable_info': 'A1:\\tb, a.\\r\\nA2:\\tcontinuous.\\r\\nA3:\\tcontinuous.\\r\\nA4:\\tu, y, l, t.\\r\\nA5:\\tg, p, gg.\\r\\nA6:\\tc, d, cc, i, j, k, m, r, q, w, x, e, aa, ff.\\r\\nA7:\\tv, h, bb, j, n, z, dd, ff, o.\\r\\nA8:\\tcontinuous.\\r\\nA9:\\tt, f.\\r\\nA10:\\tt, f.\\r\\nA11:\\tcontinuous.\\r\\nA12:\\tt, f.\\r\\nA13:\\tg, p, s.\\r\\nA14:\\tcontinuous.\\r\\nA15:\\tcontinuous.\\r\\nA16: +,-         (class attribute)', 'citation': None}}\n",
      "   name     role         type demographic description units missing_values\n",
      "0   A16   Target  Categorical        None        None  None             no\n",
      "1   A15  Feature   Continuous        None        None  None             no\n",
      "2   A14  Feature   Continuous        None        None  None            yes\n",
      "3   A13  Feature  Categorical        None        None  None             no\n",
      "4   A12  Feature  Categorical        None        None  None             no\n",
      "5   A11  Feature   Continuous        None        None  None             no\n",
      "6   A10  Feature  Categorical        None        None  None             no\n",
      "7    A9  Feature  Categorical        None        None  None             no\n",
      "8    A8  Feature   Continuous        None        None  None             no\n",
      "9    A7  Feature  Categorical        None        None  None            yes\n",
      "10   A6  Feature  Categorical        None        None  None            yes\n",
      "11   A5  Feature  Categorical        None        None  None            yes\n",
      "12   A4  Feature  Categorical        None        None  None            yes\n",
      "13   A3  Feature   Continuous        None        None  None             no\n",
      "14   A2  Feature   Continuous        None        None  None            yes\n",
      "15   A1  Feature  Categorical        None        None  None            yes\n"
     ]
    }
   ],
   "source": [
    "print(loan_approval.metadata)\n",
    "print(loan_approval.variables)"
   ]
  },
  {
   "cell_type": "code",
   "execution_count": 5,
   "metadata": {},
   "outputs": [
    {
     "data": {
      "text/html": [
       "<div>\n",
       "<style scoped>\n",
       "    .dataframe tbody tr th:only-of-type {\n",
       "        vertical-align: middle;\n",
       "    }\n",
       "\n",
       "    .dataframe tbody tr th {\n",
       "        vertical-align: top;\n",
       "    }\n",
       "\n",
       "    .dataframe thead th {\n",
       "        text-align: right;\n",
       "    }\n",
       "</style>\n",
       "<table border=\"1\" class=\"dataframe\">\n",
       "  <thead>\n",
       "    <tr style=\"text-align: right;\">\n",
       "      <th></th>\n",
       "      <th>A15</th>\n",
       "      <th>A14</th>\n",
       "      <th>A13</th>\n",
       "      <th>A12</th>\n",
       "      <th>A11</th>\n",
       "      <th>A10</th>\n",
       "      <th>A9</th>\n",
       "      <th>A8</th>\n",
       "      <th>A7</th>\n",
       "      <th>A6</th>\n",
       "      <th>A5</th>\n",
       "      <th>A4</th>\n",
       "      <th>A3</th>\n",
       "      <th>A2</th>\n",
       "      <th>A1</th>\n",
       "    </tr>\n",
       "  </thead>\n",
       "  <tbody>\n",
       "    <tr>\n",
       "      <th>0</th>\n",
       "      <td>0</td>\n",
       "      <td>202.0</td>\n",
       "      <td>g</td>\n",
       "      <td>f</td>\n",
       "      <td>1</td>\n",
       "      <td>t</td>\n",
       "      <td>t</td>\n",
       "      <td>1.25</td>\n",
       "      <td>v</td>\n",
       "      <td>w</td>\n",
       "      <td>g</td>\n",
       "      <td>u</td>\n",
       "      <td>0.000</td>\n",
       "      <td>30.83</td>\n",
       "      <td>b</td>\n",
       "    </tr>\n",
       "    <tr>\n",
       "      <th>1</th>\n",
       "      <td>560</td>\n",
       "      <td>43.0</td>\n",
       "      <td>g</td>\n",
       "      <td>f</td>\n",
       "      <td>6</td>\n",
       "      <td>t</td>\n",
       "      <td>t</td>\n",
       "      <td>3.04</td>\n",
       "      <td>h</td>\n",
       "      <td>q</td>\n",
       "      <td>g</td>\n",
       "      <td>u</td>\n",
       "      <td>4.460</td>\n",
       "      <td>58.67</td>\n",
       "      <td>a</td>\n",
       "    </tr>\n",
       "    <tr>\n",
       "      <th>2</th>\n",
       "      <td>824</td>\n",
       "      <td>280.0</td>\n",
       "      <td>g</td>\n",
       "      <td>f</td>\n",
       "      <td>0</td>\n",
       "      <td>f</td>\n",
       "      <td>t</td>\n",
       "      <td>1.50</td>\n",
       "      <td>h</td>\n",
       "      <td>q</td>\n",
       "      <td>g</td>\n",
       "      <td>u</td>\n",
       "      <td>0.500</td>\n",
       "      <td>24.50</td>\n",
       "      <td>a</td>\n",
       "    </tr>\n",
       "    <tr>\n",
       "      <th>3</th>\n",
       "      <td>3</td>\n",
       "      <td>100.0</td>\n",
       "      <td>g</td>\n",
       "      <td>t</td>\n",
       "      <td>5</td>\n",
       "      <td>t</td>\n",
       "      <td>t</td>\n",
       "      <td>3.75</td>\n",
       "      <td>v</td>\n",
       "      <td>w</td>\n",
       "      <td>g</td>\n",
       "      <td>u</td>\n",
       "      <td>1.540</td>\n",
       "      <td>27.83</td>\n",
       "      <td>b</td>\n",
       "    </tr>\n",
       "    <tr>\n",
       "      <th>4</th>\n",
       "      <td>0</td>\n",
       "      <td>120.0</td>\n",
       "      <td>s</td>\n",
       "      <td>f</td>\n",
       "      <td>0</td>\n",
       "      <td>f</td>\n",
       "      <td>t</td>\n",
       "      <td>1.71</td>\n",
       "      <td>v</td>\n",
       "      <td>w</td>\n",
       "      <td>g</td>\n",
       "      <td>u</td>\n",
       "      <td>5.625</td>\n",
       "      <td>20.17</td>\n",
       "      <td>b</td>\n",
       "    </tr>\n",
       "  </tbody>\n",
       "</table>\n",
       "</div>"
      ],
      "text/plain": [
       "   A15    A14 A13 A12  A11 A10 A9    A8 A7 A6 A5 A4     A3     A2 A1\n",
       "0    0  202.0   g   f    1   t  t  1.25  v  w  g  u  0.000  30.83  b\n",
       "1  560   43.0   g   f    6   t  t  3.04  h  q  g  u  4.460  58.67  a\n",
       "2  824  280.0   g   f    0   f  t  1.50  h  q  g  u  0.500  24.50  a\n",
       "3    3  100.0   g   t    5   t  t  3.75  v  w  g  u  1.540  27.83  b\n",
       "4    0  120.0   s   f    0   f  t  1.71  v  w  g  u  5.625  20.17  b"
      ]
     },
     "execution_count": 5,
     "metadata": {},
     "output_type": "execute_result"
    }
   ],
   "source": [
    "features.head()"
   ]
  },
  {
   "cell_type": "code",
   "execution_count": 6,
   "metadata": {},
   "outputs": [],
   "source": [
    "features.to_csv('Dataset/features.csv', index = False)\n",
    "targets.to_csv('Dataset/targets.csv', index = False)"
   ]
  }
 ],
 "metadata": {
  "kernelspec": {
   "display_name": "Python 3",
   "language": "python",
   "name": "python3"
  },
  "language_info": {
   "codemirror_mode": {
    "name": "ipython",
    "version": 3
   },
   "file_extension": ".py",
   "mimetype": "text/x-python",
   "name": "python",
   "nbconvert_exporter": "python",
   "pygments_lexer": "ipython3",
   "version": "3.11.9"
  }
 },
 "nbformat": 4,
 "nbformat_minor": 2
}
